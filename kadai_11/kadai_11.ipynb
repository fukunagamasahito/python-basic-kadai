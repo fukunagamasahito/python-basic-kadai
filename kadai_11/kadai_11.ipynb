list = ["水","金","地","火","木","土","天","海","冥"]
for x in list:
  print(x)
i = 0
while i != 100:
  print(list[i])
  if list[i]=="冥":
    break
  i = i + 1
