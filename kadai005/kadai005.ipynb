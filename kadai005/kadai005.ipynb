import numpy as np
import matplotlib.pyplot as plt
import japanize_matplotlib

fig,axes = plt.subplots(nrows=2,ncols=3)
y=[1,2,-5,3]
axes[0,0].plot(y)

np.random.seed(10)
a=np.random.normal(loc=10,scale=4,size=30)
b=np.random.normal(loc=30,scale=10,size=len(a))
axes[0,1].scatter(a,b)

c=[10,30,50]
labels=["いぬ","ねこ","サル"]
axes[1,1].pie(c,labels=labels)

d = np.random.normal(loc=50,scale=4,size=400)
axes[1,0].hist(d,bins=100)
axes[1,0].set_title("ヒストグラム")
axes[1,0].set(xlim=(0,100),xticks=np.arange(1,100,10))

e = np.linspace(0,10,100)
f = np.sin(e)
axes[0,2].plot(e,f,linewidth=2.0)

plt.show()
