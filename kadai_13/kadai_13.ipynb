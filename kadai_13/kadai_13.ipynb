def x (price,tax):
  total = price + price * tax / 100
  print(f"{total}円です。")

x(1000,10) #引数1：商品価格(円)　引数2：消費税(％)
